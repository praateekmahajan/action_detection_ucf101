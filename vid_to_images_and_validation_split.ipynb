{
 "cells": [
  {
   "cell_type": "markdown",
   "metadata": {},
   "source": [
    "## Image to Frames"
   ]
  },
  {
   "cell_type": "code",
   "execution_count": 90,
   "metadata": {},
   "outputs": [],
   "source": [
    "%matplotlib inline\n",
    "import io\n",
    "import base64\n",
    "from IPython.display import HTML\n",
    "import matplotlib.pyplot as plt\n",
    "from PIL import Image\n",
    "import cv2\n",
    "import numpy as np\n",
    "import os\n",
    "# video = io.open('test.avi', 'r+b').read()\n",
    "FOLDER = \"data/\"\n",
    "# cv2.imshow(video)"
   ]
  },
  {
   "cell_type": "code",
   "execution_count": 97,
   "metadata": {},
   "outputs": [],
   "source": [
    "with open(FOLDER+\"train1.txt\") as f:\n",
    "    content = f.readlines()\n",
    "train = [x.strip().split(\" \") for x in content] \n",
    "with open(FOLDER+\"validation1.txt\") as f:\n",
    "    content = f.readlines()\n",
    "validation = [x.strip().split(\" \") for x in content] \n",
    "\n",
    "with open(FOLDER+\"trainlist01.txt\") as f:\n",
    "    content = f.readlines()\n",
    "all_data = [x.strip().split(\" \") for x in content] \n",
    "\n"
   ]
  },
  {
   "cell_type": "code",
   "execution_count": 100,
   "metadata": {},
   "outputs": [],
   "source": [
    "filelist = []\n",
    "for video,label in all_data:\n",
    "    category = video.split(\"/\")[0]\n",
    "    filename = video.split(\"/\")[1].split(\".avi\")[0]    \n",
    "    directory_name = FOLDER + \"UCF101_images/\" + category \n",
    "\n",
    "    if not os.path.exists(directory_name):\n",
    "        os.makedirs(directory_name)\n",
    "\n",
    "    video_file = FOLDER + \"UCF101/\" + video.split(\"/\")[1]\n",
    "    cap = cv2.VideoCapture(video_file)\n",
    "    counter = 0\n",
    "    while(cap.isOpened()):\n",
    "        frameId = cap.get(1) #current frame number\n",
    "        ret, frame = cap.read()\n",
    "        if (ret != True):\n",
    "            break\n",
    "        if (frameId % 6) == 0:\n",
    "            f_ = directory_name + \"/\" + filename + \"_\" + str(counter) + \".jpg\"\n",
    "            cv2.imwrite(f_, frame)\n",
    "            counter += 1\n",
    "    cap.release()\n",
    "    filelist.append([category + \"/\" + filename, counter, label])\n"
   ]
  },
  {
   "cell_type": "markdown",
   "metadata": {},
   "source": [
    "## Validation"
   ]
  },
  {
   "cell_type": "code",
   "execution_count": 105,
   "metadata": {},
   "outputs": [],
   "source": [
    "np.savetxt('data/all_images1.txt', (filelist), fmt=['%s', '%s', '%s'], delimiter=' ')"
   ]
  },
  {
   "cell_type": "code",
   "execution_count": 109,
   "metadata": {},
   "outputs": [],
   "source": [
    "counter = {i:0 for i in range(101)}\n",
    "train_counter = {i:0 for i in range(101)}\n",
    "val_counter = {i:0 for i in range(101)}\n",
    "\n",
    "with open(\"data/all_images1.txt\") as f:\n",
    "    for line in f:\n",
    "        label = int(line.split(\" \")[2])\n",
    "        counter[label-1] += 1        \n"
   ]
  },
  {
   "cell_type": "code",
   "execution_count": 113,
   "metadata": {},
   "outputs": [],
   "source": [
    "trainlist = []\n",
    "validlist = []\n",
    "with open(\"data/all_images1.txt\") as f:\n",
    "    for line in f:\n",
    "        label = int(line.split(\" \")[2])\n",
    "        filename = line.split(\" \")[0] + \" \" + line.split(\" \")[1]\n",
    "        if(val_counter[label-1] < int(0.07 * counter[label-1])):\n",
    "            val_counter[label-1] += 1            \n",
    "            validlist.append([filename, label-1])\n",
    "        else:\n",
    "            train_counter[label-1] += 1\n",
    "            trainlist.append([filename, label-1])\n"
   ]
  },
  {
   "cell_type": "code",
   "execution_count": 117,
   "metadata": {},
   "outputs": [],
   "source": [
    "np.savetxt('data/train1.txt', (trainlist), fmt=['%s', '%s'], delimiter=' ')\n",
    "np.savetxt('data/val1.txt', (validlist), fmt=['%s', '%s'], delimiter=' ')"
   ]
  }
 ],
 "metadata": {
  "kernelspec": {
   "display_name": "Python 2",
   "language": "python",
   "name": "python2"
  },
  "language_info": {
   "codemirror_mode": {
    "name": "ipython",
    "version": 2
   },
   "file_extension": ".py",
   "mimetype": "text/x-python",
   "name": "python",
   "nbconvert_exporter": "python",
   "pygments_lexer": "ipython2",
   "version": "2.7.11"
  },
  "latex_envs": {
   "LaTeX_envs_menu_present": true,
   "autocomplete": true,
   "bibliofile": "biblio.bib",
   "cite_by": "apalike",
   "current_citInitial": 1,
   "eqLabelWithNumbers": true,
   "eqNumInitial": 1,
   "hotkeys": {
    "equation": "Ctrl-E",
    "itemize": "Ctrl-I"
   },
   "labels_anchors": false,
   "latex_user_defs": false,
   "report_style_numbering": false,
   "user_envs_cfg": false
  }
 },
 "nbformat": 4,
 "nbformat_minor": 2
}
